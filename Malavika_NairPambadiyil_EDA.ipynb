{
 "cells": [
  {
   "cell_type": "code",
   "execution_count": 2,
   "id": "d8f901b9-a117-41c3-87dd-f822053f9469",
   "metadata": {},
   "outputs": [],
   "source": [
    "import pandas as pd\n",
    "import numpy as np\n",
    "import seaborn as sns\n",
    "import matplotlib.pyplot as plt\n",
    "import warnings\n",
    "warnings.filterwarnings('ignore')"
   ]
  },
  {
   "cell_type": "code",
   "execution_count": 3,
   "id": "82bb7edd-94d7-4c6f-a360-0013c9e39cb9",
   "metadata": {},
   "outputs": [],
   "source": [
    "customers = pd.read_csv('Customers.csv')\n",
    "products = pd.read_csv('Products.csv')\n",
    "transactions = pd.read_csv('Transactions.csv')"
   ]
  },
  {
   "cell_type": "code",
   "execution_count": 4,
   "id": "3ee9da13-fdbd-4ef4-8f01-ab03db4a4813",
   "metadata": {},
   "outputs": [
    {
     "data": {
      "text/html": [
       "<div>\n",
       "<style scoped>\n",
       "    .dataframe tbody tr th:only-of-type {\n",
       "        vertical-align: middle;\n",
       "    }\n",
       "\n",
       "    .dataframe tbody tr th {\n",
       "        vertical-align: top;\n",
       "    }\n",
       "\n",
       "    .dataframe thead th {\n",
       "        text-align: right;\n",
       "    }\n",
       "</style>\n",
       "<table border=\"1\" class=\"dataframe\">\n",
       "  <thead>\n",
       "    <tr style=\"text-align: right;\">\n",
       "      <th></th>\n",
       "      <th>CustomerID</th>\n",
       "      <th>CustomerName</th>\n",
       "      <th>Region</th>\n",
       "      <th>SignupDate</th>\n",
       "    </tr>\n",
       "  </thead>\n",
       "  <tbody>\n",
       "    <tr>\n",
       "      <th>0</th>\n",
       "      <td>C0001</td>\n",
       "      <td>Lawrence Carroll</td>\n",
       "      <td>South America</td>\n",
       "      <td>2022-07-10</td>\n",
       "    </tr>\n",
       "    <tr>\n",
       "      <th>1</th>\n",
       "      <td>C0002</td>\n",
       "      <td>Elizabeth Lutz</td>\n",
       "      <td>Asia</td>\n",
       "      <td>2022-02-13</td>\n",
       "    </tr>\n",
       "    <tr>\n",
       "      <th>2</th>\n",
       "      <td>C0003</td>\n",
       "      <td>Michael Rivera</td>\n",
       "      <td>South America</td>\n",
       "      <td>2024-03-07</td>\n",
       "    </tr>\n",
       "    <tr>\n",
       "      <th>3</th>\n",
       "      <td>C0004</td>\n",
       "      <td>Kathleen Rodriguez</td>\n",
       "      <td>South America</td>\n",
       "      <td>2022-10-09</td>\n",
       "    </tr>\n",
       "    <tr>\n",
       "      <th>4</th>\n",
       "      <td>C0005</td>\n",
       "      <td>Laura Weber</td>\n",
       "      <td>Asia</td>\n",
       "      <td>2022-08-15</td>\n",
       "    </tr>\n",
       "  </tbody>\n",
       "</table>\n",
       "</div>"
      ],
      "text/plain": [
       "  CustomerID        CustomerName         Region  SignupDate\n",
       "0      C0001    Lawrence Carroll  South America  2022-07-10\n",
       "1      C0002      Elizabeth Lutz           Asia  2022-02-13\n",
       "2      C0003      Michael Rivera  South America  2024-03-07\n",
       "3      C0004  Kathleen Rodriguez  South America  2022-10-09\n",
       "4      C0005         Laura Weber           Asia  2022-08-15"
      ]
     },
     "execution_count": 4,
     "metadata": {},
     "output_type": "execute_result"
    }
   ],
   "source": [
    "customers.head()"
   ]
  },
  {
   "cell_type": "code",
   "execution_count": 5,
   "id": "64e8e4ba-f4b1-4a90-9f30-277d6d495c09",
   "metadata": {},
   "outputs": [
    {
     "data": {
      "text/html": [
       "<div>\n",
       "<style scoped>\n",
       "    .dataframe tbody tr th:only-of-type {\n",
       "        vertical-align: middle;\n",
       "    }\n",
       "\n",
       "    .dataframe tbody tr th {\n",
       "        vertical-align: top;\n",
       "    }\n",
       "\n",
       "    .dataframe thead th {\n",
       "        text-align: right;\n",
       "    }\n",
       "</style>\n",
       "<table border=\"1\" class=\"dataframe\">\n",
       "  <thead>\n",
       "    <tr style=\"text-align: right;\">\n",
       "      <th></th>\n",
       "      <th>ProductID</th>\n",
       "      <th>ProductName</th>\n",
       "      <th>Category</th>\n",
       "      <th>Price</th>\n",
       "    </tr>\n",
       "  </thead>\n",
       "  <tbody>\n",
       "    <tr>\n",
       "      <th>0</th>\n",
       "      <td>P001</td>\n",
       "      <td>ActiveWear Biography</td>\n",
       "      <td>Books</td>\n",
       "      <td>169.30</td>\n",
       "    </tr>\n",
       "    <tr>\n",
       "      <th>1</th>\n",
       "      <td>P002</td>\n",
       "      <td>ActiveWear Smartwatch</td>\n",
       "      <td>Electronics</td>\n",
       "      <td>346.30</td>\n",
       "    </tr>\n",
       "    <tr>\n",
       "      <th>2</th>\n",
       "      <td>P003</td>\n",
       "      <td>ComfortLiving Biography</td>\n",
       "      <td>Books</td>\n",
       "      <td>44.12</td>\n",
       "    </tr>\n",
       "    <tr>\n",
       "      <th>3</th>\n",
       "      <td>P004</td>\n",
       "      <td>BookWorld Rug</td>\n",
       "      <td>Home Decor</td>\n",
       "      <td>95.69</td>\n",
       "    </tr>\n",
       "    <tr>\n",
       "      <th>4</th>\n",
       "      <td>P005</td>\n",
       "      <td>TechPro T-Shirt</td>\n",
       "      <td>Clothing</td>\n",
       "      <td>429.31</td>\n",
       "    </tr>\n",
       "  </tbody>\n",
       "</table>\n",
       "</div>"
      ],
      "text/plain": [
       "  ProductID              ProductName     Category   Price\n",
       "0      P001     ActiveWear Biography        Books  169.30\n",
       "1      P002    ActiveWear Smartwatch  Electronics  346.30\n",
       "2      P003  ComfortLiving Biography        Books   44.12\n",
       "3      P004            BookWorld Rug   Home Decor   95.69\n",
       "4      P005          TechPro T-Shirt     Clothing  429.31"
      ]
     },
     "execution_count": 5,
     "metadata": {},
     "output_type": "execute_result"
    }
   ],
   "source": [
    "products.head()"
   ]
  },
  {
   "cell_type": "code",
   "execution_count": 6,
   "id": "0769427d-8675-400e-b71a-8e041ec51a50",
   "metadata": {},
   "outputs": [
    {
     "data": {
      "text/html": [
       "<div>\n",
       "<style scoped>\n",
       "    .dataframe tbody tr th:only-of-type {\n",
       "        vertical-align: middle;\n",
       "    }\n",
       "\n",
       "    .dataframe tbody tr th {\n",
       "        vertical-align: top;\n",
       "    }\n",
       "\n",
       "    .dataframe thead th {\n",
       "        text-align: right;\n",
       "    }\n",
       "</style>\n",
       "<table border=\"1\" class=\"dataframe\">\n",
       "  <thead>\n",
       "    <tr style=\"text-align: right;\">\n",
       "      <th></th>\n",
       "      <th>TransactionID</th>\n",
       "      <th>CustomerID</th>\n",
       "      <th>ProductID</th>\n",
       "      <th>TransactionDate</th>\n",
       "      <th>Quantity</th>\n",
       "      <th>TotalValue</th>\n",
       "      <th>Price</th>\n",
       "    </tr>\n",
       "  </thead>\n",
       "  <tbody>\n",
       "    <tr>\n",
       "      <th>0</th>\n",
       "      <td>T00001</td>\n",
       "      <td>C0199</td>\n",
       "      <td>P067</td>\n",
       "      <td>2024-08-25 12:38:23</td>\n",
       "      <td>1</td>\n",
       "      <td>300.68</td>\n",
       "      <td>300.68</td>\n",
       "    </tr>\n",
       "    <tr>\n",
       "      <th>1</th>\n",
       "      <td>T00112</td>\n",
       "      <td>C0146</td>\n",
       "      <td>P067</td>\n",
       "      <td>2024-05-27 22:23:54</td>\n",
       "      <td>1</td>\n",
       "      <td>300.68</td>\n",
       "      <td>300.68</td>\n",
       "    </tr>\n",
       "    <tr>\n",
       "      <th>2</th>\n",
       "      <td>T00166</td>\n",
       "      <td>C0127</td>\n",
       "      <td>P067</td>\n",
       "      <td>2024-04-25 07:38:55</td>\n",
       "      <td>1</td>\n",
       "      <td>300.68</td>\n",
       "      <td>300.68</td>\n",
       "    </tr>\n",
       "    <tr>\n",
       "      <th>3</th>\n",
       "      <td>T00272</td>\n",
       "      <td>C0087</td>\n",
       "      <td>P067</td>\n",
       "      <td>2024-03-26 22:55:37</td>\n",
       "      <td>2</td>\n",
       "      <td>601.36</td>\n",
       "      <td>300.68</td>\n",
       "    </tr>\n",
       "    <tr>\n",
       "      <th>4</th>\n",
       "      <td>T00363</td>\n",
       "      <td>C0070</td>\n",
       "      <td>P067</td>\n",
       "      <td>2024-03-21 15:10:10</td>\n",
       "      <td>3</td>\n",
       "      <td>902.04</td>\n",
       "      <td>300.68</td>\n",
       "    </tr>\n",
       "  </tbody>\n",
       "</table>\n",
       "</div>"
      ],
      "text/plain": [
       "  TransactionID CustomerID ProductID      TransactionDate  Quantity  \\\n",
       "0        T00001      C0199      P067  2024-08-25 12:38:23         1   \n",
       "1        T00112      C0146      P067  2024-05-27 22:23:54         1   \n",
       "2        T00166      C0127      P067  2024-04-25 07:38:55         1   \n",
       "3        T00272      C0087      P067  2024-03-26 22:55:37         2   \n",
       "4        T00363      C0070      P067  2024-03-21 15:10:10         3   \n",
       "\n",
       "   TotalValue   Price  \n",
       "0      300.68  300.68  \n",
       "1      300.68  300.68  \n",
       "2      300.68  300.68  \n",
       "3      601.36  300.68  \n",
       "4      902.04  300.68  "
      ]
     },
     "execution_count": 6,
     "metadata": {},
     "output_type": "execute_result"
    }
   ],
   "source": [
    "transactions.head()"
   ]
  },
  {
   "cell_type": "code",
   "execution_count": 13,
   "id": "42a2c336-99fb-46d0-ad00-2628a9a2e4b6",
   "metadata": {},
   "outputs": [
    {
     "data": {
      "text/plain": [
       "(200, 4)"
      ]
     },
     "execution_count": 13,
     "metadata": {},
     "output_type": "execute_result"
    }
   ],
   "source": [
    "customers.shape"
   ]
  },
  {
   "cell_type": "code",
   "execution_count": 14,
   "id": "f796b341-7bda-4ab6-bb4e-687aeaec5bb4",
   "metadata": {},
   "outputs": [
    {
     "name": "stdout",
     "output_type": "stream",
     "text": [
      "<class 'pandas.core.frame.DataFrame'>\n",
      "RangeIndex: 200 entries, 0 to 199\n",
      "Data columns (total 4 columns):\n",
      " #   Column        Non-Null Count  Dtype \n",
      "---  ------        --------------  ----- \n",
      " 0   CustomerID    200 non-null    object\n",
      " 1   CustomerName  200 non-null    object\n",
      " 2   Region        200 non-null    object\n",
      " 3   SignupDate    200 non-null    object\n",
      "dtypes: object(4)\n",
      "memory usage: 6.4+ KB\n"
     ]
    }
   ],
   "source": [
    "customers.info()"
   ]
  },
  {
   "cell_type": "code",
   "execution_count": 15,
   "id": "6d919721-0f2e-4560-b41d-2dd6face860b",
   "metadata": {},
   "outputs": [
    {
     "data": {
      "text/plain": [
       "CustomerID      0\n",
       "CustomerName    0\n",
       "Region          0\n",
       "SignupDate      0\n",
       "dtype: int64"
      ]
     },
     "execution_count": 15,
     "metadata": {},
     "output_type": "execute_result"
    }
   ],
   "source": [
    "customers.isnull().sum()"
   ]
  },
  {
   "cell_type": "code",
   "execution_count": 10,
   "id": "2c7fb901-4dc6-4110-9c27-3025d558bf42",
   "metadata": {},
   "outputs": [
    {
     "data": {
      "text/plain": [
       "(100, 4)"
      ]
     },
     "execution_count": 10,
     "metadata": {},
     "output_type": "execute_result"
    }
   ],
   "source": [
    "products.shape"
   ]
  },
  {
   "cell_type": "code",
   "execution_count": 11,
   "id": "611926e3-c1d0-420d-9ab9-85077828656d",
   "metadata": {},
   "outputs": [
    {
     "name": "stdout",
     "output_type": "stream",
     "text": [
      "<class 'pandas.core.frame.DataFrame'>\n",
      "RangeIndex: 100 entries, 0 to 99\n",
      "Data columns (total 4 columns):\n",
      " #   Column       Non-Null Count  Dtype  \n",
      "---  ------       --------------  -----  \n",
      " 0   ProductID    100 non-null    object \n",
      " 1   ProductName  100 non-null    object \n",
      " 2   Category     100 non-null    object \n",
      " 3   Price        100 non-null    float64\n",
      "dtypes: float64(1), object(3)\n",
      "memory usage: 3.3+ KB\n"
     ]
    }
   ],
   "source": [
    "products.info()"
   ]
  },
  {
   "cell_type": "code",
   "execution_count": 12,
   "id": "73730c6f-217a-4a46-b7eb-2517bf46f659",
   "metadata": {},
   "outputs": [
    {
     "data": {
      "text/plain": [
       "ProductID      0\n",
       "ProductName    0\n",
       "Category       0\n",
       "Price          0\n",
       "dtype: int64"
      ]
     },
     "execution_count": 12,
     "metadata": {},
     "output_type": "execute_result"
    }
   ],
   "source": [
    "products.isnull().sum()"
   ]
  },
  {
   "cell_type": "code",
   "execution_count": 8,
   "id": "078df830-1858-4290-80a7-843c52409bbf",
   "metadata": {},
   "outputs": [
    {
     "data": {
      "text/plain": [
       "(1000, 7)"
      ]
     },
     "execution_count": 8,
     "metadata": {},
     "output_type": "execute_result"
    }
   ],
   "source": [
    "transactions.shape"
   ]
  },
  {
   "cell_type": "code",
   "execution_count": 7,
   "id": "842507a4-8093-4eee-9a9d-b2f3aa0ff8b1",
   "metadata": {},
   "outputs": [
    {
     "name": "stdout",
     "output_type": "stream",
     "text": [
      "<class 'pandas.core.frame.DataFrame'>\n",
      "RangeIndex: 1000 entries, 0 to 999\n",
      "Data columns (total 7 columns):\n",
      " #   Column           Non-Null Count  Dtype  \n",
      "---  ------           --------------  -----  \n",
      " 0   TransactionID    1000 non-null   object \n",
      " 1   CustomerID       1000 non-null   object \n",
      " 2   ProductID        1000 non-null   object \n",
      " 3   TransactionDate  1000 non-null   object \n",
      " 4   Quantity         1000 non-null   int64  \n",
      " 5   TotalValue       1000 non-null   float64\n",
      " 6   Price            1000 non-null   float64\n",
      "dtypes: float64(2), int64(1), object(4)\n",
      "memory usage: 54.8+ KB\n"
     ]
    }
   ],
   "source": [
    "transactions.info()"
   ]
  },
  {
   "cell_type": "code",
   "execution_count": 9,
   "id": "610b867b-9f42-414d-93ea-430e9f22845f",
   "metadata": {},
   "outputs": [
    {
     "data": {
      "text/plain": [
       "TransactionID      0\n",
       "CustomerID         0\n",
       "ProductID          0\n",
       "TransactionDate    0\n",
       "Quantity           0\n",
       "TotalValue         0\n",
       "Price              0\n",
       "dtype: int64"
      ]
     },
     "execution_count": 9,
     "metadata": {},
     "output_type": "execute_result"
    }
   ],
   "source": [
    "transactions.isnull().sum()"
   ]
  },
  {
   "cell_type": "code",
   "execution_count": 16,
   "id": "a7961f47-f4d2-4b50-8fbe-0e4e4d59646e",
   "metadata": {},
   "outputs": [
    {
     "data": {
      "text/plain": [
       "CustomerID      object\n",
       "CustomerName    object\n",
       "Region          object\n",
       "SignupDate      object\n",
       "dtype: object"
      ]
     },
     "execution_count": 16,
     "metadata": {},
     "output_type": "execute_result"
    }
   ],
   "source": [
    "customers.dtypes"
   ]
  },
  {
   "cell_type": "code",
   "execution_count": 17,
   "id": "fb6de12b-59f4-44d3-b72e-24f93072979b",
   "metadata": {},
   "outputs": [
    {
     "data": {
      "text/plain": [
       "ProductID       object\n",
       "ProductName     object\n",
       "Category        object\n",
       "Price          float64\n",
       "dtype: object"
      ]
     },
     "execution_count": 17,
     "metadata": {},
     "output_type": "execute_result"
    }
   ],
   "source": [
    "products.dtypes"
   ]
  },
  {
   "cell_type": "code",
   "execution_count": 18,
   "id": "857768f3-8a61-480f-a3d2-8ca3745bd155",
   "metadata": {},
   "outputs": [
    {
     "data": {
      "text/plain": [
       "TransactionID       object\n",
       "CustomerID          object\n",
       "ProductID           object\n",
       "TransactionDate     object\n",
       "Quantity             int64\n",
       "TotalValue         float64\n",
       "Price              float64\n",
       "dtype: object"
      ]
     },
     "execution_count": 18,
     "metadata": {},
     "output_type": "execute_result"
    }
   ],
   "source": [
    "transactions.dtypes"
   ]
  },
  {
   "cell_type": "code",
   "execution_count": 19,
   "id": "2dc38823-daeb-4e9a-8526-a84bfea6a347",
   "metadata": {},
   "outputs": [
    {
     "data": {
      "text/html": [
       "<div>\n",
       "<style scoped>\n",
       "    .dataframe tbody tr th:only-of-type {\n",
       "        vertical-align: middle;\n",
       "    }\n",
       "\n",
       "    .dataframe tbody tr th {\n",
       "        vertical-align: top;\n",
       "    }\n",
       "\n",
       "    .dataframe thead th {\n",
       "        text-align: right;\n",
       "    }\n",
       "</style>\n",
       "<table border=\"1\" class=\"dataframe\">\n",
       "  <thead>\n",
       "    <tr style=\"text-align: right;\">\n",
       "      <th></th>\n",
       "      <th>CustomerID</th>\n",
       "      <th>CustomerName</th>\n",
       "      <th>Region</th>\n",
       "      <th>SignupDate</th>\n",
       "    </tr>\n",
       "  </thead>\n",
       "  <tbody>\n",
       "    <tr>\n",
       "      <th>count</th>\n",
       "      <td>200</td>\n",
       "      <td>200</td>\n",
       "      <td>200</td>\n",
       "      <td>200</td>\n",
       "    </tr>\n",
       "    <tr>\n",
       "      <th>unique</th>\n",
       "      <td>200</td>\n",
       "      <td>200</td>\n",
       "      <td>4</td>\n",
       "      <td>179</td>\n",
       "    </tr>\n",
       "    <tr>\n",
       "      <th>top</th>\n",
       "      <td>C0001</td>\n",
       "      <td>Lawrence Carroll</td>\n",
       "      <td>South America</td>\n",
       "      <td>2024-11-11</td>\n",
       "    </tr>\n",
       "    <tr>\n",
       "      <th>freq</th>\n",
       "      <td>1</td>\n",
       "      <td>1</td>\n",
       "      <td>59</td>\n",
       "      <td>3</td>\n",
       "    </tr>\n",
       "  </tbody>\n",
       "</table>\n",
       "</div>"
      ],
      "text/plain": [
       "       CustomerID      CustomerName         Region  SignupDate\n",
       "count         200               200            200         200\n",
       "unique        200               200              4         179\n",
       "top         C0001  Lawrence Carroll  South America  2024-11-11\n",
       "freq            1                 1             59           3"
      ]
     },
     "execution_count": 19,
     "metadata": {},
     "output_type": "execute_result"
    }
   ],
   "source": [
    "customers.describe()"
   ]
  },
  {
   "cell_type": "code",
   "execution_count": 20,
   "id": "b8e038eb-eaf3-4afb-bb2e-625bde185063",
   "metadata": {},
   "outputs": [
    {
     "data": {
      "text/html": [
       "<div>\n",
       "<style scoped>\n",
       "    .dataframe tbody tr th:only-of-type {\n",
       "        vertical-align: middle;\n",
       "    }\n",
       "\n",
       "    .dataframe tbody tr th {\n",
       "        vertical-align: top;\n",
       "    }\n",
       "\n",
       "    .dataframe thead th {\n",
       "        text-align: right;\n",
       "    }\n",
       "</style>\n",
       "<table border=\"1\" class=\"dataframe\">\n",
       "  <thead>\n",
       "    <tr style=\"text-align: right;\">\n",
       "      <th></th>\n",
       "      <th>Price</th>\n",
       "    </tr>\n",
       "  </thead>\n",
       "  <tbody>\n",
       "    <tr>\n",
       "      <th>count</th>\n",
       "      <td>100.000000</td>\n",
       "    </tr>\n",
       "    <tr>\n",
       "      <th>mean</th>\n",
       "      <td>267.551700</td>\n",
       "    </tr>\n",
       "    <tr>\n",
       "      <th>std</th>\n",
       "      <td>143.219383</td>\n",
       "    </tr>\n",
       "    <tr>\n",
       "      <th>min</th>\n",
       "      <td>16.080000</td>\n",
       "    </tr>\n",
       "    <tr>\n",
       "      <th>25%</th>\n",
       "      <td>147.767500</td>\n",
       "    </tr>\n",
       "    <tr>\n",
       "      <th>50%</th>\n",
       "      <td>292.875000</td>\n",
       "    </tr>\n",
       "    <tr>\n",
       "      <th>75%</th>\n",
       "      <td>397.090000</td>\n",
       "    </tr>\n",
       "    <tr>\n",
       "      <th>max</th>\n",
       "      <td>497.760000</td>\n",
       "    </tr>\n",
       "  </tbody>\n",
       "</table>\n",
       "</div>"
      ],
      "text/plain": [
       "            Price\n",
       "count  100.000000\n",
       "mean   267.551700\n",
       "std    143.219383\n",
       "min     16.080000\n",
       "25%    147.767500\n",
       "50%    292.875000\n",
       "75%    397.090000\n",
       "max    497.760000"
      ]
     },
     "execution_count": 20,
     "metadata": {},
     "output_type": "execute_result"
    }
   ],
   "source": [
    "products.describe()"
   ]
  },
  {
   "cell_type": "code",
   "execution_count": 21,
   "id": "0d592edf-5e76-4bb7-9762-a5f7bf8d2af3",
   "metadata": {},
   "outputs": [
    {
     "data": {
      "text/html": [
       "<div>\n",
       "<style scoped>\n",
       "    .dataframe tbody tr th:only-of-type {\n",
       "        vertical-align: middle;\n",
       "    }\n",
       "\n",
       "    .dataframe tbody tr th {\n",
       "        vertical-align: top;\n",
       "    }\n",
       "\n",
       "    .dataframe thead th {\n",
       "        text-align: right;\n",
       "    }\n",
       "</style>\n",
       "<table border=\"1\" class=\"dataframe\">\n",
       "  <thead>\n",
       "    <tr style=\"text-align: right;\">\n",
       "      <th></th>\n",
       "      <th>Quantity</th>\n",
       "      <th>TotalValue</th>\n",
       "      <th>Price</th>\n",
       "    </tr>\n",
       "  </thead>\n",
       "  <tbody>\n",
       "    <tr>\n",
       "      <th>count</th>\n",
       "      <td>1000.000000</td>\n",
       "      <td>1000.000000</td>\n",
       "      <td>1000.00000</td>\n",
       "    </tr>\n",
       "    <tr>\n",
       "      <th>mean</th>\n",
       "      <td>2.537000</td>\n",
       "      <td>689.995560</td>\n",
       "      <td>272.55407</td>\n",
       "    </tr>\n",
       "    <tr>\n",
       "      <th>std</th>\n",
       "      <td>1.117981</td>\n",
       "      <td>493.144478</td>\n",
       "      <td>140.73639</td>\n",
       "    </tr>\n",
       "    <tr>\n",
       "      <th>min</th>\n",
       "      <td>1.000000</td>\n",
       "      <td>16.080000</td>\n",
       "      <td>16.08000</td>\n",
       "    </tr>\n",
       "    <tr>\n",
       "      <th>25%</th>\n",
       "      <td>2.000000</td>\n",
       "      <td>295.295000</td>\n",
       "      <td>147.95000</td>\n",
       "    </tr>\n",
       "    <tr>\n",
       "      <th>50%</th>\n",
       "      <td>3.000000</td>\n",
       "      <td>588.880000</td>\n",
       "      <td>299.93000</td>\n",
       "    </tr>\n",
       "    <tr>\n",
       "      <th>75%</th>\n",
       "      <td>4.000000</td>\n",
       "      <td>1011.660000</td>\n",
       "      <td>404.40000</td>\n",
       "    </tr>\n",
       "    <tr>\n",
       "      <th>max</th>\n",
       "      <td>4.000000</td>\n",
       "      <td>1991.040000</td>\n",
       "      <td>497.76000</td>\n",
       "    </tr>\n",
       "  </tbody>\n",
       "</table>\n",
       "</div>"
      ],
      "text/plain": [
       "          Quantity   TotalValue       Price\n",
       "count  1000.000000  1000.000000  1000.00000\n",
       "mean      2.537000   689.995560   272.55407\n",
       "std       1.117981   493.144478   140.73639\n",
       "min       1.000000    16.080000    16.08000\n",
       "25%       2.000000   295.295000   147.95000\n",
       "50%       3.000000   588.880000   299.93000\n",
       "75%       4.000000  1011.660000   404.40000\n",
       "max       4.000000  1991.040000   497.76000"
      ]
     },
     "execution_count": 21,
     "metadata": {},
     "output_type": "execute_result"
    }
   ],
   "source": [
    "transactions.describe()"
   ]
  },
  {
   "cell_type": "code",
   "execution_count": 22,
   "id": "30b5ba1d-9eb7-41b6-a3d7-e0c193ba06d8",
   "metadata": {},
   "outputs": [
    {
     "data": {
      "text/plain": [
       "CustomerID      200\n",
       "CustomerName    200\n",
       "Region            4\n",
       "SignupDate      179\n",
       "dtype: int64"
      ]
     },
     "execution_count": 22,
     "metadata": {},
     "output_type": "execute_result"
    }
   ],
   "source": [
    "customers.nunique()"
   ]
  },
  {
   "cell_type": "code",
   "execution_count": 23,
   "id": "53ba30bf-a20c-4028-b2e5-fb57d692db5a",
   "metadata": {},
   "outputs": [
    {
     "data": {
      "text/plain": [
       "ProductID      100\n",
       "ProductName     66\n",
       "Category         4\n",
       "Price          100\n",
       "dtype: int64"
      ]
     },
     "execution_count": 23,
     "metadata": {},
     "output_type": "execute_result"
    }
   ],
   "source": [
    "products.nunique()"
   ]
  },
  {
   "cell_type": "code",
   "execution_count": 24,
   "id": "bdc09a45-4ac6-4ddb-b31f-6f5baeca2a90",
   "metadata": {},
   "outputs": [
    {
     "data": {
      "text/plain": [
       "TransactionID      1000\n",
       "CustomerID          199\n",
       "ProductID           100\n",
       "TransactionDate    1000\n",
       "Quantity              4\n",
       "TotalValue          369\n",
       "Price               100\n",
       "dtype: int64"
      ]
     },
     "execution_count": 24,
     "metadata": {},
     "output_type": "execute_result"
    }
   ],
   "source": [
    "transactions.nunique()"
   ]
  },
  {
   "cell_type": "code",
   "execution_count": 26,
   "id": "e09e5840-f72d-44ac-95da-f7fb7f541f62",
   "metadata": {},
   "outputs": [
    {
     "name": "stdout",
     "output_type": "stream",
     "text": [
      "0      False\n",
      "1      False\n",
      "2      False\n",
      "3      False\n",
      "4      False\n",
      "       ...  \n",
      "195    False\n",
      "196    False\n",
      "197    False\n",
      "198    False\n",
      "199    False\n",
      "Length: 200, dtype: bool\n"
     ]
    }
   ],
   "source": [
    "print(customers.duplicated())"
   ]
  },
  {
   "cell_type": "code",
   "execution_count": 27,
   "id": "05839100-b07e-4685-a7dc-eaf0b3baa92a",
   "metadata": {},
   "outputs": [
    {
     "data": {
      "text/plain": [
       "0     False\n",
       "1     False\n",
       "2     False\n",
       "3     False\n",
       "4     False\n",
       "      ...  \n",
       "95    False\n",
       "96    False\n",
       "97    False\n",
       "98    False\n",
       "99    False\n",
       "Length: 100, dtype: bool"
      ]
     },
     "execution_count": 27,
     "metadata": {},
     "output_type": "execute_result"
    }
   ],
   "source": [
    "products.duplicated()"
   ]
  },
  {
   "cell_type": "code",
   "execution_count": 28,
   "id": "0c85d589-ad28-45e0-995f-20ee93d71ef2",
   "metadata": {},
   "outputs": [
    {
     "data": {
      "text/plain": [
       "0      False\n",
       "1      False\n",
       "2      False\n",
       "3      False\n",
       "4      False\n",
       "       ...  \n",
       "995    False\n",
       "996    False\n",
       "997    False\n",
       "998    False\n",
       "999    False\n",
       "Length: 1000, dtype: bool"
      ]
     },
     "execution_count": 28,
     "metadata": {},
     "output_type": "execute_result"
    }
   ],
   "source": [
    "transactions.duplicated()"
   ]
  },
  {
   "cell_type": "code",
   "execution_count": null,
   "id": "976213d4-91d6-475b-9321-42d2b993ec09",
   "metadata": {},
   "outputs": [],
   "source": []
  },
  {
   "cell_type": "code",
   "execution_count": null,
   "id": "cf36d9a8-0949-4ec6-b26e-fffbae1aa78d",
   "metadata": {},
   "outputs": [],
   "source": []
  },
  {
   "cell_type": "code",
   "execution_count": 29,
   "id": "a0beb12e-61f2-4bb8-9f01-35ff13c99b0c",
   "metadata": {},
   "outputs": [
    {
     "data": {
      "text/html": [
       "<div>\n",
       "<style scoped>\n",
       "    .dataframe tbody tr th:only-of-type {\n",
       "        vertical-align: middle;\n",
       "    }\n",
       "\n",
       "    .dataframe tbody tr th {\n",
       "        vertical-align: top;\n",
       "    }\n",
       "\n",
       "    .dataframe thead th {\n",
       "        text-align: right;\n",
       "    }\n",
       "</style>\n",
       "<table border=\"1\" class=\"dataframe\">\n",
       "  <thead>\n",
       "    <tr style=\"text-align: right;\">\n",
       "      <th></th>\n",
       "      <th>CustomerID</th>\n",
       "      <th>CustomerName</th>\n",
       "      <th>Region</th>\n",
       "      <th>SignupDate</th>\n",
       "    </tr>\n",
       "  </thead>\n",
       "  <tbody>\n",
       "    <tr>\n",
       "      <th>0</th>\n",
       "      <td>C0001</td>\n",
       "      <td>Lawrence Carroll</td>\n",
       "      <td>South America</td>\n",
       "      <td>2022-07-10</td>\n",
       "    </tr>\n",
       "    <tr>\n",
       "      <th>1</th>\n",
       "      <td>C0002</td>\n",
       "      <td>Elizabeth Lutz</td>\n",
       "      <td>Asia</td>\n",
       "      <td>2022-02-13</td>\n",
       "    </tr>\n",
       "    <tr>\n",
       "      <th>2</th>\n",
       "      <td>C0003</td>\n",
       "      <td>Michael Rivera</td>\n",
       "      <td>South America</td>\n",
       "      <td>2024-03-07</td>\n",
       "    </tr>\n",
       "    <tr>\n",
       "      <th>3</th>\n",
       "      <td>C0004</td>\n",
       "      <td>Kathleen Rodriguez</td>\n",
       "      <td>South America</td>\n",
       "      <td>2022-10-09</td>\n",
       "    </tr>\n",
       "    <tr>\n",
       "      <th>4</th>\n",
       "      <td>C0005</td>\n",
       "      <td>Laura Weber</td>\n",
       "      <td>Asia</td>\n",
       "      <td>2022-08-15</td>\n",
       "    </tr>\n",
       "  </tbody>\n",
       "</table>\n",
       "</div>"
      ],
      "text/plain": [
       "  CustomerID        CustomerName         Region  SignupDate\n",
       "0      C0001    Lawrence Carroll  South America  2022-07-10\n",
       "1      C0002      Elizabeth Lutz           Asia  2022-02-13\n",
       "2      C0003      Michael Rivera  South America  2024-03-07\n",
       "3      C0004  Kathleen Rodriguez  South America  2022-10-09\n",
       "4      C0005         Laura Weber           Asia  2022-08-15"
      ]
     },
     "execution_count": 29,
     "metadata": {},
     "output_type": "execute_result"
    }
   ],
   "source": [
    "customers.head()"
   ]
  },
  {
   "cell_type": "code",
   "execution_count": 30,
   "id": "7ecd6c5b-6ad5-4a73-985a-e0bb2e76ad2d",
   "metadata": {},
   "outputs": [],
   "source": [
    "customers['SignupDate'] = pd.to_datetime(customers['SignupDate'])\n",
    "customers['SignupDate'] = customers['SignupDate'].dt.year\n",
    "trends_signup = customers['SignupDate'].value_counts().sort_index()\n"
   ]
  },
  {
   "cell_type": "code",
   "execution_count": 48,
   "id": "8d284211-a2ff-4f3c-ac22-08fba3c13a97",
   "metadata": {},
   "outputs": [
    {
     "data": {
      "image/png": "[encoded data removed]",
      "text/plain": [
       "<Figure size 800x500 with 1 Axes>"
      ]
     },
     "metadata": {},
     "output_type": "display_data"
    }
   ],
   "source": [
    "plt.figure(figsize=(8,5))\n",
    "sns.barplot(x=trends_signup.index, y = trends_signup.values, palette=\"rocket\")\n",
    "plt.title('Trends of customer SignUps')\n",
    "plt.xlabel(\"Year\")\n",
    "plt.ylabel(\"No. of Sign ups\")\n",
    "plt.show()"
   ]
  },
  {
   "cell_type": "code",
   "execution_count": null,
   "id": "04763887-8ba0-42cc-bcd9-c56f7df34c8b",
   "metadata": {},
   "outputs": [],
   "source": []
  },
  {
   "cell_type": "code",
   "execution_count": null,
   "id": "1aee0aa7-da29-431e-921a-c0f8644a06cf",
   "metadata": {},
   "outputs": [],
   "source": []
  },
  {
   "cell_type": "code",
   "execution_count": null,
   "id": "912b4d5a-da78-47b4-a2df-204c65d3be7b",
   "metadata": {},
   "outputs": [],
   "source": []
  },
  {
   "cell_type": "code",
   "execution_count": 47,
   "id": "d24ed149-9486-4528-9505-b417a69c678a",
   "metadata": {},
   "outputs": [],
   "source": [
    "regional_signups = customers['Region'].value_counts()\n"
   ]
  },
  {
   "cell_type": "code",
   "execution_count": 53,
   "id": "b8cf991c-fb62-400e-8099-92a20737b551",
   "metadata": {},
   "outputs": [
    {
     "data": {
      "image/png": "[encoded data removed]",
      "text/plain": [
       "<Figure size 800x500 with 1 Axes>"
      ]
     },
     "metadata": {},
     "output_type": "display_data"
    }
   ],
   "source": [
    "plt.figure(figsize=(8,5))\n",
    "sns.barplot(x=regional_signups.index, y = regional_signups.values, palette='colorblind')\n",
    "plt.title(\"Customer Distribution by Region \")\n",
    "plt.xlabel(\"Region\")\n",
    "plt.ylabel(\"No. of Customers\")\n",
    "plt.show()"
   ]
  },
  {
   "cell_type": "code",
   "execution_count": null,
   "id": "02d36ad3-f361-4586-b437-6f0f55a8d156",
   "metadata": {},
   "outputs": [],
   "source": []
  },
  {
   "cell_type": "code",
   "execution_count": null,
   "id": "9797b120-471c-40ef-80de-a6cf5bdaa9b3",
   "metadata": {},
   "outputs": [],
   "source": []
  },
  {
   "cell_type": "code",
   "execution_count": 54,
   "id": "c7e53d7c-dfb9-4254-8f31-4bbb32ec1aa1",
   "metadata": {},
   "outputs": [
    {
     "data": {
      "text/html": [
       "<div>\n",
       "<style scoped>\n",
       "    .dataframe tbody tr th:only-of-type {\n",
       "        vertical-align: middle;\n",
       "    }\n",
       "\n",
       "    .dataframe tbody tr th {\n",
       "        vertical-align: top;\n",
       "    }\n",
       "\n",
       "    .dataframe thead th {\n",
       "        text-align: right;\n",
       "    }\n",
       "</style>\n",
       "<table border=\"1\" class=\"dataframe\">\n",
       "  <thead>\n",
       "    <tr style=\"text-align: right;\">\n",
       "      <th></th>\n",
       "      <th>ProductID</th>\n",
       "      <th>ProductName</th>\n",
       "      <th>Category</th>\n",
       "      <th>Price</th>\n",
       "    </tr>\n",
       "  </thead>\n",
       "  <tbody>\n",
       "    <tr>\n",
       "      <th>0</th>\n",
       "      <td>P001</td>\n",
       "      <td>ActiveWear Biography</td>\n",
       "      <td>Books</td>\n",
       "      <td>169.30</td>\n",
       "    </tr>\n",
       "    <tr>\n",
       "      <th>1</th>\n",
       "      <td>P002</td>\n",
       "      <td>ActiveWear Smartwatch</td>\n",
       "      <td>Electronics</td>\n",
       "      <td>346.30</td>\n",
       "    </tr>\n",
       "    <tr>\n",
       "      <th>2</th>\n",
       "      <td>P003</td>\n",
       "      <td>ComfortLiving Biography</td>\n",
       "      <td>Books</td>\n",
       "      <td>44.12</td>\n",
       "    </tr>\n",
       "    <tr>\n",
       "      <th>3</th>\n",
       "      <td>P004</td>\n",
       "      <td>BookWorld Rug</td>\n",
       "      <td>Home Decor</td>\n",
       "      <td>95.69</td>\n",
       "    </tr>\n",
       "    <tr>\n",
       "      <th>4</th>\n",
       "      <td>P005</td>\n",
       "      <td>TechPro T-Shirt</td>\n",
       "      <td>Clothing</td>\n",
       "      <td>429.31</td>\n",
       "    </tr>\n",
       "  </tbody>\n",
       "</table>\n",
       "</div>"
      ],
      "text/plain": [
       "  ProductID              ProductName     Category   Price\n",
       "0      P001     ActiveWear Biography        Books  169.30\n",
       "1      P002    ActiveWear Smartwatch  Electronics  346.30\n",
       "2      P003  ComfortLiving Biography        Books   44.12\n",
       "3      P004            BookWorld Rug   Home Decor   95.69\n",
       "4      P005          TechPro T-Shirt     Clothing  429.31"
      ]
     },
     "execution_count": 54,
     "metadata": {},
     "output_type": "execute_result"
    }
   ],
   "source": [
    "products.head()"
   ]
  },
  {
   "cell_type": "code",
   "execution_count": 55,
   "id": "0d5bed36-7679-420f-b4d7-0b986ad9734c",
   "metadata": {},
   "outputs": [
    {
     "data": {
      "image/png": "[encoded data removed]",
      "text/plain": [
       "<Figure size 800x500 with 1 Axes>"
      ]
     },
     "metadata": {},
     "output_type": "display_data"
    }
   ],
   "source": [
    "category_distribution = products['Category'].value_counts()\n",
    "plt.figure(figsize=(8,5))\n",
    "sns.barplot(x = category_distribution.index, y = category_distribution.values, palette='coolwarm')\n",
    "plt.title(\"Category wise distribution\")\n",
    "plt.xlabel(\"Category\")\n",
    "plt.ylabel(\"No. of products\")\n",
    "plt.show()"
   ]
  },
  {
   "cell_type": "code",
   "execution_count": 61,
   "id": "0431345f-6bda-4ce6-9fe5-7bdddc56a9c8",
   "metadata": {},
   "outputs": [
    {
     "name": "stdout",
     "output_type": "stream",
     "text": [
      "Category\n",
      "Books          26\n",
      "Electronics    26\n",
      "Clothing       25\n",
      "Home Decor     23\n",
      "Name: count, dtype: int64\n",
      "Max Category:  26\n"
     ]
    }
   ],
   "source": [
    "print(category_distribution)\n",
    "print(\"Max Category: \", max(category_distribution))"
   ]
  },
  {
   "cell_type": "code",
   "execution_count": null,
   "id": "673b3664-b6db-4725-8cfa-7155f1d98f61",
   "metadata": {},
   "outputs": [],
   "source": []
  },
  {
   "cell_type": "code",
   "execution_count": null,
   "id": "1b93aa06-6cc8-4daa-aba7-d9472cda7ba8",
   "metadata": {},
   "outputs": [],
   "source": []
  },
  {
   "cell_type": "code",
   "execution_count": 73,
   "id": "669ca421-a6f5-4468-a128-9162e3666eb0",
   "metadata": {},
   "outputs": [
    {
     "data": {
      "image/png": "[encoded data removed]",
      "text/plain": [
       "<Figure size 800x500 with 1 Axes>"
      ]
     },
     "metadata": {},
     "output_type": "display_data"
    }
   ],
   "source": [
    "plt.figure(figsize=(8,5))\n",
    "sns.boxplot(data = products, x = 'Price', palette=\"pastel\")\n",
    "plt.title(\"Price Distribution\")\n",
    "plt.xlabel(\"Price (USD)\")\n",
    "plt.show()"
   ]
  },
  {
   "cell_type": "code",
   "execution_count": null,
   "id": "09af1ea2-82a4-4e4a-9248-23426bdc958e",
   "metadata": {},
   "outputs": [],
   "source": []
  },
  {
   "cell_type": "code",
   "execution_count": null,
   "id": "f0fc5e4e-d2f5-46f2-b1b6-108007841172",
   "metadata": {},
   "outputs": [],
   "source": []
  },
  {
   "cell_type": "code",
   "execution_count": null,
   "id": "c0f087b7-227c-43bb-87d9-eda375d07d23",
   "metadata": {},
   "outputs": [],
   "source": []
  },
  {
   "cell_type": "code",
   "execution_count": null,
   "id": "f94a5b69-c968-4254-a2ac-1666cab17383",
   "metadata": {},
   "outputs": [],
   "source": []
  },
  {
   "cell_type": "code",
   "execution_count": 74,
   "id": "71871d19-79cd-45ab-a199-ae270f8a1f8f",
   "metadata": {},
   "outputs": [
    {
     "data": {
      "text/html": [
       "<div>\n",
       "<style scoped>\n",
       "    .dataframe tbody tr th:only-of-type {\n",
       "        vertical-align: middle;\n",
       "    }\n",
       "\n",
       "    .dataframe tbody tr th {\n",
       "        vertical-align: top;\n",
       "    }\n",
       "\n",
       "    .dataframe thead th {\n",
       "        text-align: right;\n",
       "    }\n",
       "</style>\n",
       "<table border=\"1\" class=\"dataframe\">\n",
       "  <thead>\n",
       "    <tr style=\"text-align: right;\">\n",
       "      <th></th>\n",
       "      <th>TransactionID</th>\n",
       "      <th>CustomerID</th>\n",
       "      <th>ProductID</th>\n",
       "      <th>TransactionDate</th>\n",
       "      <th>Quantity</th>\n",
       "      <th>TotalValue</th>\n",
       "      <th>Price</th>\n",
       "    </tr>\n",
       "  </thead>\n",
       "  <tbody>\n",
       "    <tr>\n",
       "      <th>0</th>\n",
       "      <td>T00001</td>\n",
       "      <td>C0199</td>\n",
       "      <td>P067</td>\n",
       "      <td>2024-08-25 12:38:23</td>\n",
       "      <td>1</td>\n",
       "      <td>300.68</td>\n",
       "      <td>300.68</td>\n",
       "    </tr>\n",
       "    <tr>\n",
       "      <th>1</th>\n",
       "      <td>T00112</td>\n",
       "      <td>C0146</td>\n",
       "      <td>P067</td>\n",
       "      <td>2024-05-27 22:23:54</td>\n",
       "      <td>1</td>\n",
       "      <td>300.68</td>\n",
       "      <td>300.68</td>\n",
       "    </tr>\n",
       "    <tr>\n",
       "      <th>2</th>\n",
       "      <td>T00166</td>\n",
       "      <td>C0127</td>\n",
       "      <td>P067</td>\n",
       "      <td>2024-04-25 07:38:55</td>\n",
       "      <td>1</td>\n",
       "      <td>300.68</td>\n",
       "      <td>300.68</td>\n",
       "    </tr>\n",
       "    <tr>\n",
       "      <th>3</th>\n",
       "      <td>T00272</td>\n",
       "      <td>C0087</td>\n",
       "      <td>P067</td>\n",
       "      <td>2024-03-26 22:55:37</td>\n",
       "      <td>2</td>\n",
       "      <td>601.36</td>\n",
       "      <td>300.68</td>\n",
       "    </tr>\n",
       "    <tr>\n",
       "      <th>4</th>\n",
       "      <td>T00363</td>\n",
       "      <td>C0070</td>\n",
       "      <td>P067</td>\n",
       "      <td>2024-03-21 15:10:10</td>\n",
       "      <td>3</td>\n",
       "      <td>902.04</td>\n",
       "      <td>300.68</td>\n",
       "    </tr>\n",
       "  </tbody>\n",
       "</table>\n",
       "</div>"
      ],
      "text/plain": [
       "  TransactionID CustomerID ProductID      TransactionDate  Quantity  \\\n",
       "0        T00001      C0199      P067  2024-08-25 12:38:23         1   \n",
       "1        T00112      C0146      P067  2024-05-27 22:23:54         1   \n",
       "2        T00166      C0127      P067  2024-04-25 07:38:55         1   \n",
       "3        T00272      C0087      P067  2024-03-26 22:55:37         2   \n",
       "4        T00363      C0070      P067  2024-03-21 15:10:10         3   \n",
       "\n",
       "   TotalValue   Price  \n",
       "0      300.68  300.68  \n",
       "1      300.68  300.68  \n",
       "2      300.68  300.68  \n",
       "3      601.36  300.68  \n",
       "4      902.04  300.68  "
      ]
     },
     "execution_count": 74,
     "metadata": {},
     "output_type": "execute_result"
    }
   ],
   "source": [
    "transactions.head()"
   ]
  },
  {
   "cell_type": "code",
   "execution_count": 81,
   "id": "9e5f94bd-f8f0-4efc-992e-eb4038b738af",
   "metadata": {},
   "outputs": [
    {
     "data": {
      "image/png": "[encoded data removed]",
      "text/plain": [
       "<Figure size 800x500 with 1 Axes>"
      ]
     },
     "metadata": {},
     "output_type": "display_data"
    }
   ],
   "source": [
    "transactions['TransactionDate'] = pd.to_datetime(transactions['TransactionDate'])\n",
    "transactions['TransactionMonth'] = transactions['TransactionDate'].dt.to_period(\"M\")\n",
    "monthly_trans = transactions['TransactionMonth'].value_counts().sort_index()\n",
    "plt.figure(figsize=(8,5))\n",
    "monthly_trans.plot(kind= 'line', marker = 'o', color='r')\n",
    "plt.title(\"Monthly Trends\")\n",
    "plt.xlabel('Month')\n",
    "plt.ylabel(\"No. of transactions\")\n",
    "plt.grid()\n",
    "plt.show()"
   ]
  },
  {
   "cell_type": "code",
   "execution_count": null,
   "id": "fba835a6-c8e4-4bc7-9862-60a388b4ff61",
   "metadata": {},
   "outputs": [],
   "source": []
  },
  {
   "cell_type": "code",
   "execution_count": 83,
   "id": "eddfd5dc-e09b-49dd-bc3f-e30304f479df",
   "metadata": {},
   "outputs": [
    {
     "data": {
      "text/html": [
       "<div>\n",
       "<style scoped>\n",
       "    .dataframe tbody tr th:only-of-type {\n",
       "        vertical-align: middle;\n",
       "    }\n",
       "\n",
       "    .dataframe tbody tr th {\n",
       "        vertical-align: top;\n",
       "    }\n",
       "\n",
       "    .dataframe thead th {\n",
       "        text-align: right;\n",
       "    }\n",
       "</style>\n",
       "<table border=\"1\" class=\"dataframe\">\n",
       "  <thead>\n",
       "    <tr style=\"text-align: right;\">\n",
       "      <th></th>\n",
       "      <th>TransactionID</th>\n",
       "      <th>CustomerID</th>\n",
       "      <th>ProductID</th>\n",
       "      <th>TransactionDate</th>\n",
       "      <th>Quantity</th>\n",
       "      <th>TotalValue</th>\n",
       "      <th>Price</th>\n",
       "      <th>TransactionMonth</th>\n",
       "    </tr>\n",
       "  </thead>\n",
       "  <tbody>\n",
       "    <tr>\n",
       "      <th>0</th>\n",
       "      <td>T00001</td>\n",
       "      <td>C0199</td>\n",
       "      <td>P067</td>\n",
       "      <td>2024-08-25 12:38:23</td>\n",
       "      <td>1</td>\n",
       "      <td>300.68</td>\n",
       "      <td>300.68</td>\n",
       "      <td>2024-08</td>\n",
       "    </tr>\n",
       "    <tr>\n",
       "      <th>1</th>\n",
       "      <td>T00112</td>\n",
       "      <td>C0146</td>\n",
       "      <td>P067</td>\n",
       "      <td>2024-05-27 22:23:54</td>\n",
       "      <td>1</td>\n",
       "      <td>300.68</td>\n",
       "      <td>300.68</td>\n",
       "      <td>2024-05</td>\n",
       "    </tr>\n",
       "    <tr>\n",
       "      <th>2</th>\n",
       "      <td>T00166</td>\n",
       "      <td>C0127</td>\n",
       "      <td>P067</td>\n",
       "      <td>2024-04-25 07:38:55</td>\n",
       "      <td>1</td>\n",
       "      <td>300.68</td>\n",
       "      <td>300.68</td>\n",
       "      <td>2024-04</td>\n",
       "    </tr>\n",
       "    <tr>\n",
       "      <th>3</th>\n",
       "      <td>T00272</td>\n",
       "      <td>C0087</td>\n",
       "      <td>P067</td>\n",
       "      <td>2024-03-26 22:55:37</td>\n",
       "      <td>2</td>\n",
       "      <td>601.36</td>\n",
       "      <td>300.68</td>\n",
       "      <td>2024-03</td>\n",
       "    </tr>\n",
       "    <tr>\n",
       "      <th>4</th>\n",
       "      <td>T00363</td>\n",
       "      <td>C0070</td>\n",
       "      <td>P067</td>\n",
       "      <td>2024-03-21 15:10:10</td>\n",
       "      <td>3</td>\n",
       "      <td>902.04</td>\n",
       "      <td>300.68</td>\n",
       "      <td>2024-03</td>\n",
       "    </tr>\n",
       "  </tbody>\n",
       "</table>\n",
       "</div>"
      ],
      "text/plain": [
       "  TransactionID CustomerID ProductID     TransactionDate  Quantity  \\\n",
       "0        T00001      C0199      P067 2024-08-25 12:38:23         1   \n",
       "1        T00112      C0146      P067 2024-05-27 22:23:54         1   \n",
       "2        T00166      C0127      P067 2024-04-25 07:38:55         1   \n",
       "3        T00272      C0087      P067 2024-03-26 22:55:37         2   \n",
       "4        T00363      C0070      P067 2024-03-21 15:10:10         3   \n",
       "\n",
       "   TotalValue   Price TransactionMonth  \n",
       "0      300.68  300.68          2024-08  \n",
       "1      300.68  300.68          2024-05  \n",
       "2      300.68  300.68          2024-04  \n",
       "3      601.36  300.68          2024-03  \n",
       "4      902.04  300.68          2024-03  "
      ]
     },
     "execution_count": 83,
     "metadata": {},
     "output_type": "execute_result"
    }
   ],
   "source": [
    "transactions.head()"
   ]
  },
  {
   "cell_type": "code",
   "execution_count": 88,
   "id": "f5b8b502-889b-4fa5-bd15-e4cd3e7466c8",
   "metadata": {},
   "outputs": [
    {
     "data": {
      "image/png": "[encoded data removed]",
      "text/plain": [
       "<Figure size 800x500 with 1 Axes>"
      ]
     },
     "metadata": {},
     "output_type": "display_data"
    }
   ],
   "source": [
    "revenue_per_category =  transactions.merge(products, on=\"ProductID\").groupby(\"Category\")[\"TotalValue\"].sum()\n",
    "plt.figure(figsize=(8,5))\n",
    "revenue_per_category.sort_values().plot(kind = 'barh', color = \"skyblue\")\n",
    "plt.title(\"Revenue per Category\")\n",
    "plt.xlabel(\"Total Revenue in (USD)\")\n",
    "plt.ylabel(\"Product Category\")\n",
    "plt.show()"
   ]
  },
  {
   "cell_type": "code",
   "execution_count": null,
   "id": "d3f20912-53aa-4347-a27c-628c382df69d",
   "metadata": {},
   "outputs": [],
   "source": []
  },
  {
   "cell_type": "code",
   "execution_count": null,
   "id": "68622992-ec05-4c66-8d84-d81a8d67cabd",
   "metadata": {},
   "outputs": [],
   "source": []
  },
  {
   "cell_type": "code",
   "execution_count": 97,
   "id": "1a1d98fc-9f08-491b-a855-5d4b677f1fe4",
   "metadata": {},
   "outputs": [
    {
     "data": {
      "image/png": "[encoded data removed]",
      "text/plain": [
       "<Figure size 1000x500 with 1 Axes>"
      ]
     },
     "metadata": {},
     "output_type": "display_data"
    }
   ],
   "source": [
    "top_spenders = transactions.groupby(\"CustomerID\")[\"TotalValue\"].sum().sort_values(ascending=False).head(15)\n",
    "plt.figure(figsize=(10,5))\n",
    "sns.barplot(x = top_spenders.values, y = top_spenders.index, palette=\"magma\")\n",
    "plt.title(\"Top 15 Customers by Spending\")\n",
    "plt.xlabel(\"Total Spending in USD\")\n",
    "plt.ylabel(\"Customer ID\")\n",
    "plt.show()"
   ]
  },
  {
   "cell_type": "code",
   "execution_count": null,
   "id": "5edeaa8e-0894-4b46-b6e0-abeaff9d31ce",
   "metadata": {},
   "outputs": [],
   "source": []
  }
 ],
 "metadata": {
  "kernelspec": {
   "display_name": "Python 3 (ipykernel)",
   "language": "python",
   "name": "python3"
  },
  "language_info": {
   "codemirror_mode": {
    "name": "ipython",
    "version": 3
   },
   "file_extension": ".py",
   "mimetype": "text/x-python",
   "name": "python",
   "nbconvert_exporter": "python",
   "pygments_lexer": "ipython3",
   "version": "3.11.7"
  },
  "widgets": {
   "application/vnd.jupyter.widget-state+json": {
    "state": {},
    "version_major": 2,
    "version_minor": 0
   }
  }
 },
 "nbformat": 4,
 "nbformat_minor": 5
}
